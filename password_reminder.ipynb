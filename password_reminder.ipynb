{
  "nbformat": 4,
  "nbformat_minor": 0,
  "metadata": {
    "colab": {
      "name": "password_reminder.ipynb",
      "private_outputs": true,
      "provenance": []
    },
    "kernelspec": {
      "name": "python3",
      "display_name": "Python 3"
    },
    "language_info": {
      "name": "python"
    }
  },
  "cells": [
    {
      "cell_type": "markdown",
      "metadata": {
        "id": "SSPcu32up5Q1"
      },
      "source": [
        "Task : Let's say; you left a message in the past that prints a password you need. To see the password you wrote, you need to enter your name and the program should recognize you.\n",
        "Write a program that \n",
        "\n",
        "Takes the first name from the user and compares it to yours,\n",
        "Then if the name the user entered is the same as yours, print out such as : \"Hello, Joseph! The password is : W@12\",\n",
        "If the name the user entered is not the same as yours, print out such as : \"Hello, Amina! See you later.\""
      ]
    },
    {
      "cell_type": "code",
      "metadata": {
        "id": "VSeNqRmkp-Qz"
      },
      "source": [
        "first_name = str(input(\"first_name please :\"))   #Takes the first name from the user \n",
        "if first_name == \"yusuf\":                        # compare\n",
        "  print(\"Hello, yusuf! the password is '1234'.\") # True\n",
        "else:\n",
        "  print(\"Hello! züleyha! See you later.\" )       # not True"
      ],
      "execution_count": null,
      "outputs": []
    }
  ]
}